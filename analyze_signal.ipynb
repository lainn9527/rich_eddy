{
 "cells": [
  {
   "cell_type": "code",
   "execution_count": 8,
   "id": "74f6695e",
   "metadata": {},
   "outputs": [],
   "source": [
    "import csv\n",
    "import pandas as pd"
   ]
  },
  {
   "cell_type": "code",
   "execution_count": 9,
   "id": "94892476-607d-4199-8d5b-a8638cf7030a",
   "metadata": {},
   "outputs": [],
   "source": [
    "FILE_PATH = 'signal_one.csv'\n",
    "df = pd.read_csv(FILE_PATH, header=0,)"
   ]
  },
  {
   "cell_type": "code",
   "execution_count": 15,
   "id": "22d473e6-b2da-410d-8f93-1746ead8d0f1",
   "metadata": {},
   "outputs": [
    {
     "data": {
      "text/plain": [
       "code           6452.00000\n",
       "start_price     537.00000\n",
       "end_price       209.50000\n",
       "min_in_2w        -0.60987\n",
       "max_in_2w         0.00000\n",
       "hold_in_2w       -0.60987\n",
       "Name: 7302, dtype: float64"
      ]
     },
     "execution_count": 15,
     "metadata": {},
     "output_type": "execute_result"
    }
   ],
   "source": [
    "df.iloc[df['min_in_2w'].argmin()]"
   ]
  },
  {
   "cell_type": "code",
   "execution_count": null,
   "id": "e029d498-ac5d-4118-8718-206ec113cc66",
   "metadata": {},
   "outputs": [],
   "source": []
  }
 ],
 "metadata": {
  "kernelspec": {
   "display_name": "Python 3 (ipykernel)",
   "language": "python",
   "name": "python3"
  },
  "language_info": {
   "codemirror_mode": {
    "name": "ipython",
    "version": 3
   },
   "file_extension": ".py",
   "mimetype": "text/x-python",
   "name": "python",
   "nbconvert_exporter": "python",
   "pygments_lexer": "ipython3",
   "version": "3.9.6"
  }
 },
 "nbformat": 4,
 "nbformat_minor": 5
}
